{
 "cells": [
  {
   "cell_type": "code",
   "id": "initial_id",
   "metadata": {
    "collapsed": true,
    "ExecuteTime": {
     "end_time": "2025-06-19T08:27:05.972681Z",
     "start_time": "2025-06-19T08:27:05.963946Z"
    }
   },
   "source": [
    "class Test:\n",
    "    def __init__(self):\n",
    "        self.connect_f = None\n",
    "\n",
    "    def forward(self, out, x):\n",
    "        if self.connect_f == 'ADD':\n",
    "            out = x + out\n",
    "        elif self.connect_f == 'AND':\n",
    "            out = x * out\n",
    "        elif self.connect_f == 'NAND':\n",
    "            out = 1. - (x * out)\n",
    "        elif self.connect_f == 'IAND':\n",
    "            out = x * (1. - out)\n",
    "        elif self.connect_f == 'ANDI':\n",
    "            out = (1. - x) * out\n",
    "        elif self.connect_f == 'OR':\n",
    "            out = x + out - x * out\n",
    "        elif self.connect_f == 'XOR':\n",
    "            out = x * (1. - out) + (1. - x) * out\n",
    "        elif self.connect_f == 'NOR':\n",
    "            out = 1. - (x + out - x * out)\n",
    "        elif self.connect_f == 'XNOR':\n",
    "            out = 1. - (x * (1. - out) + (1. - x) * out)\n",
    "        elif self.connect_f == 'IMPL':\n",
    "            out = 1 - x + x * out\n",
    "        elif self.connect_f == 'RIMPL':\n",
    "            out = 1 - out + out * x\n",
    "        else:\n",
    "            raise NotImplementedError(self.connect_f)\n",
    "\n",
    "        return int(out)\n",
    "\n",
    "\n",
    "def can_implement_identity(f_outputs):\n",
    "    if f_outputs[0] == 0 and f_outputs[1] == 1:\n",
    "        return 1\n",
    "\n",
    "    if f_outputs[2] == 0 and f_outputs[3] == 1:\n",
    "        return 1\n",
    "\n",
    "    return 0\n",
    "\n",
    "\n",
    "inputs = [[0, 0], [0, 1], [1, 0], [1, 1]]\n",
    "fs = ['ADD', 'AND', 'NAND', 'IAND', 'ANDI', 'OR', 'XOR', 'NOR', 'XNOR', 'IMPL', 'RIMPL']\n",
    "\n",
    "outputs = []\n",
    "test = Test()\n",
    "for f in fs:\n",
    "    test.connect_f = f\n",
    "    f_outputs = []\n",
    "    for x in inputs:\n",
    "        out = test.forward(x[0], x[1])\n",
    "        f_outputs.append(out)\n",
    "    f_outputs = tuple(f_outputs)\n",
    "\n",
    "    outputs.append(f_outputs)\n",
    "\n",
    "print('            ', end='')\n",
    "for input in inputs:\n",
    "    print(f'{input[0]}{input[1]} | ', end='')\n",
    "\n",
    "print()\n",
    "for f, f_outputs in zip(fs, outputs):\n",
    "    print(f' {f.ljust(5)} {can_implement_identity(f_outputs)} | ', end='')\n",
    "\n",
    "    for o in f_outputs:\n",
    "        print(f'{o:2}   ', end='')\n",
    "    print()\n",
    "\n",
    "print(len(fs))\n",
    "assert len(outputs) == len(set(outputs)), 'duplicate'"
   ],
   "outputs": [
    {
     "name": "stdout",
     "output_type": "stream",
     "text": [
      "            00 | 01 | 10 | 11 | \n",
      " ADD   1 |  0    1    1    2   \n",
      " AND   1 |  0    0    0    1   \n",
      " NAND  0 |  1    1    1    0   \n",
      " IAND  1 |  0    1    0    0   \n",
      " ANDI  0 |  0    0    1    0   \n",
      " OR    1 |  0    1    1    1   \n",
      " XOR   1 |  0    1    1    0   \n",
      " NOR   0 |  1    0    0    0   \n",
      " XNOR  1 |  1    0    0    1   \n",
      " IMPL  0 |  1    0    1    1   \n",
      " RIMPL 1 |  1    1    0    1   \n",
      "11\n"
     ]
    }
   ],
   "execution_count": 64
  }
 ],
 "metadata": {
  "kernelspec": {
   "display_name": "Python 3",
   "language": "python",
   "name": "python3"
  },
  "language_info": {
   "codemirror_mode": {
    "name": "ipython",
    "version": 2
   },
   "file_extension": ".py",
   "mimetype": "text/x-python",
   "name": "python",
   "nbconvert_exporter": "python",
   "pygments_lexer": "ipython2",
   "version": "2.7.6"
  }
 },
 "nbformat": 4,
 "nbformat_minor": 5
}
